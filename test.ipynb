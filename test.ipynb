{
 "cells": [
  {
   "cell_type": "code",
   "execution_count": 67,
   "metadata": {},
   "outputs": [],
   "source": [
    "class FrenchNumberConverter:\n",
    "    def __init__(self):\n",
    "        self.strategies = {\n",
    "            0: 'zéro', 1: 'un', 2: 'deux', 3: 'trois', 4: 'quatre',\n",
    "            5: 'cinq', 6: 'six', 7: 'sept', 8: 'huit', 9: 'neuf',\n",
    "            10: 'dix', 11: 'onze', 12: 'douze', 13: 'treize', 14: 'quatorze',\n",
    "            15: 'quinze', 16: 'seize', 20: 'vingt', 30: 'trente', 40: 'quarante',\n",
    "            50: 'cinquante', 60: 'soixante', 70: 'soixante-dix', 80: 'quatre-vingt',\n",
    "            90: 'quatre-vingt-dix', 100: 'cent', 1000: 'mille', 1000000: 'million'\n",
    "        }\n",
    "    \n",
    "    def convert(self, number):\n",
    "        if number in self.strategies:\n",
    "            return self.strategies[number]\n",
    "        if number < 20:\n",
    "            return self.handle_less_20(number)\n",
    "        if number < 100:\n",
    "            return self._convert_less_than_hundreds(number)\n",
    "        if number < 1000:\n",
    "            return self._convert_hundreds_less_than_thousands(number)\n",
    "        if number < 1000000:\n",
    "            return self._convert_thousands_less_than_millions(number)\n",
    "\n",
    "        \n",
    "    def handle_less_20(self, number):\n",
    "        if number in self.strategies:\n",
    "            return self.strategies[number]\n",
    "        tens = number // 10 * 10\n",
    "        ones = number % 10\n",
    "        final_digits = f\"{self.strategies[tens]}-{self.strategies[ones]}\"\n",
    "        return final_digits\n",
    "    \n",
    "    # def _convert_less_than_hundreds(self, number):\n",
    "    #     if number in [71, 81, 91]:\n",
    "    #         return self._handle_special_cases(number)\n",
    "    #     tens = number // 10 * 10 \n",
    "    #     ones = number % 10\n",
    "    #     return f\"{self.strategies[tens]}-et-{self.strategies[ones]}\" if ones == 1 else f\"{self.strategies[tens]}-{self.strategies[ones]}\"\n",
    "\n",
    "    # def _handle_special_cases(self, number):\n",
    "    #     tens = number // 10 * 10 \n",
    "    #     ones = number % 10\n",
    "    #     if number == 71:\n",
    "    #         return f\"{self.strategies[tens - 10]}-et-{self.strategies[ones + 10]}\"\n",
    "    #     if number == 81:\n",
    "    #         return f\"{self.strategies[tens]}-{self.strategies[ones]}\"\n",
    "    #     if number == 91:\n",
    "    #         return f\"{self.strategies[tens - 10]}-{self.strategies[ones + 10]}\"\n",
    "    \n",
    "    \n",
    "    def _convert_less_than_hundreds(self, number):\n",
    "        if number < 70 or (80 <= number < 90):\n",
    "            tens = number // 10 * 10\n",
    "            ones = number % 10\n",
    "            if ones == 0:\n",
    "                return self.strategies[number]\n",
    "            return f\"{self.strategies[tens]}-{self.strategies[ones]}\"\n",
    "        elif number < 80:  # 70-79\n",
    "            ones = number - 70\n",
    "            return \"soixante-\" + self.strategies[10 + ones]\n",
    "        else:  # 90-99\n",
    "            new_number = number - 80\n",
    "            return f\"{self.strategies[80]} +'-'+ {self.handle_less_20(new_number)}\"\n",
    "            \n",
    "    def _convert_hundreds_less_than_thousands(self, number):\n",
    "        hundreds = number // 100\n",
    "        remainder = number % 100\n",
    "\n",
    "        if hundreds == 1:\n",
    "            hundred_text = \"cent\"\n",
    "        else:\n",
    "            hundred_text = f\"{self.convert(hundreds)} cents\"\n",
    "        if remainder == 0:\n",
    "            return hundred_text\n",
    "        else:\n",
    "            return f\"{hundred_text} {self.convert(remainder)}\"\n",
    "\n",
    "    \n",
    "    def _convert_thousands_less_than_millions(self, number):\n",
    "        thousands = number // 1000\n",
    "        remainder = number % 1000\n",
    "        if thousands == 1:\n",
    "            thousand_text = \"mille\"\n",
    "        else:\n",
    "            thousand_text = f\"{self.convert(thousands)} milles\"\n",
    "        if remainder == 0:\n",
    "            return thousand_text\n",
    "        else:\n",
    "            return f\"{thousand_text} {self.convert(remainder)}\"\n",
    "                "
   ]
  },
  {
   "cell_type": "code",
   "execution_count": 68,
   "metadata": {},
   "outputs": [
    {
     "data": {
      "text/plain": [
       "['deux', 'cents', 'cinquante-un']"
      ]
     },
     "execution_count": 68,
     "metadata": {},
     "output_type": "execute_result"
    }
   ],
   "source": [
    "converter = FrenchNumberConverter()\n",
    "data = converter.convert(251)\n",
    "data1 = data.split(' ')\n",
    "data1\n"
   ]
  },
  {
   "cell_type": "code",
   "execution_count": 69,
   "metadata": {},
   "outputs": [
    {
     "data": {
      "text/plain": [
       "'d'"
      ]
     },
     "execution_count": 69,
     "metadata": {},
     "output_type": "execute_result"
    }
   ],
   "source": [
    "data[0]"
   ]
  },
  {
   "cell_type": "code",
   "execution_count": 70,
   "metadata": {},
   "outputs": [],
   "source": [
    "class MaskItems(FrenchNumberConverter):\n",
    "    def mask_items(self, number):\n",
    "        words = self.convert(number).split(\" \")\n",
    "        while \"cents\" in words and words.index(\"cents\") != len(words) - 1:\n",
    "            index_cents = words.index(\"cents\")\n",
    "            words[index_cents] = \"cent\"\n",
    "        while \"milles\" in words and words.index(\"milles\") != len(words) - 1:\n",
    "            index_milles = words.index(\"milles\")\n",
    "            words[index_milles] = \"mille\"\n",
    "        return ' '.join(words)"
   ]
  },
  {
   "cell_type": "code",
   "execution_count": 76,
   "metadata": {},
   "outputs": [
    {
     "data": {
      "text/plain": [
       "'dix-sept'"
      ]
     },
     "execution_count": 76,
     "metadata": {},
     "output_type": "execute_result"
    }
   ],
   "source": [
    "data = MaskItems()\n",
    "data.mask_items(17)"
   ]
  },
  {
   "cell_type": "code",
   "execution_count": 72,
   "metadata": {},
   "outputs": [
    {
     "data": {
      "text/plain": [
       "'deux cent cinquante-un'"
      ]
     },
     "execution_count": 72,
     "metadata": {},
     "output_type": "execute_result"
    }
   ],
   "source": [
    "data.mask_items(251)"
   ]
  },
  {
   "cell_type": "code",
   "execution_count": 73,
   "metadata": {},
   "outputs": [
    {
     "data": {
      "text/plain": [
       "'deux mille un'"
      ]
     },
     "execution_count": 73,
     "metadata": {},
     "output_type": "execute_result"
    }
   ],
   "source": [
    "data.mask_items(2001)"
   ]
  },
  {
   "cell_type": "code",
   "execution_count": 65,
   "metadata": {},
   "outputs": [],
   "source": [
    "test_cases = [0, 1, 5, 10, 11, 15, 20, 21, 30, 35, 50, 51, 68, 70, 75, 99]"
   ]
  },
  {
   "cell_type": "code",
   "execution_count": 66,
   "metadata": {},
   "outputs": [
    {
     "name": "stdout",
     "output_type": "stream",
     "text": [
      "0: zéro\n",
      "1: un\n",
      "5: cinq\n",
      "10: dix\n",
      "11: onze\n",
      "15: quinze\n",
      "20: vingt\n",
      "21: vingt-un\n",
      "30: trente\n",
      "35: trente-cinq\n",
      "50: cinquante\n",
      "51: cinquante-un\n",
      "68: soixante-huit\n",
      "70: soixante-dix\n",
      "75: soixante-quinze\n",
      "99: quatre-vingt-dix-neuf\n"
     ]
    }
   ],
   "source": [
    "converter = MaskItems()\n",
    "for number in test_cases:\n",
    "    print(f\"{number}: {converter.convert(number)}\")"
   ]
  },
  {
   "cell_type": "code",
   "execution_count": 66,
   "metadata": {},
   "outputs": [
    {
     "name": "stdout",
     "output_type": "stream",
     "text": [
      "201: deux cents un\n",
      "555: cinq cents cinquante-cinq\n",
      "999: neuf cents quatre-vingt-dix-neuf\n",
      "1000: mille\n",
      "1001: mille un\n",
      "1111: mille cent onze\n",
      "1199: mille cent quatre-vingt-dix-neuf\n",
      "1234: mille deux cents trente-quatre\n",
      "1999: mille neuf cents quatre-vingt-dix-neuf\n"
     ]
    }
   ],
   "source": [
    "test_cases = [ 201, 555, 999, 1000, 1001, 1111, 1199, 1234, 1999, ]\n",
    "for number in test_cases:\n",
    "    print(f\"{number}: {converter.convert(number)}\")\n"
   ]
  },
  {
   "cell_type": "code",
   "execution_count": 67,
   "metadata": {},
   "outputs": [
    {
     "name": "stdout",
     "output_type": "stream",
     "text": [
      "2000: deux milles\n",
      "2001: deux milles un\n",
      "2020: deux milles vingt\n",
      "2021: deux milles vingt-et-un\n",
      "2345: deux milles trois cents quarante-cinq\n",
      "9999: neuf milles neuf cents quatre-vingt-dix-neuf\n",
      "10000: dix milles\n",
      "11111: onze milles cent onze\n",
      "12345: douze milles trois cents quarante-cinq\n",
      "123456: cent vingt-trois milles quatre cents cinquante-six\n",
      "654321: six cents cinquante-quatre milles trois cents vingt-et-un\n",
      "999999: neuf cents quatre-vingt-dix-neuf milles neuf cents quatre-vingt-dix-neuf\n"
     ]
    }
   ],
   "source": [
    "test_cases = [2000, 2001, 2020, 2021, 2345, 9999, 10000, 11111, 12345, 123456, 654321, 999999]\n",
    "for number in test_cases:\n",
    "    print(f\"{number}: {converter.convert(number)}\")\n"
   ]
  },
  {
   "cell_type": "code",
   "execution_count": null,
   "metadata": {},
   "outputs": [],
   "source": []
  },
  {
   "cell_type": "code",
   "execution_count": 81,
   "metadata": {},
   "outputs": [],
   "source": [
    "def mask_items():\n",
    "    # words = \"neuf cents quatre-vingt-dix-neuf milles neuf cents quatre-vingt-dix-neuf\".split(\" \")\n",
    "    words = \"vingt-et-un\".split(\" \")\n",
    "    # return words\n",
    "    while \"cents\" in words and words.index(\"cents\") != len(words) - 1:\n",
    "        index_cents = words.index(\"cents\")\n",
    "        words[index_cents] = \"cent\"\n",
    "\n",
    "    while \"milles\" in words and words.index(\"milles\") != len(words) - 1:\n",
    "        index_milles = words.index(\"milles\")\n",
    "        words[index_milles] = \"mille\"\n",
    "\n",
    "    return ' '.join(words)"
   ]
  },
  {
   "cell_type": "code",
   "execution_count": 82,
   "metadata": {},
   "outputs": [
    {
     "data": {
      "text/plain": [
       "'vingt-et-un'"
      ]
     },
     "execution_count": 82,
     "metadata": {},
     "output_type": "execute_result"
    }
   ],
   "source": [
    "mask_items()"
   ]
  },
  {
   "cell_type": "code",
   "execution_count": 1,
   "metadata": {},
   "outputs": [],
   "source": [
    "strategies = {\n",
    "        0: 'zéro', 1: 'un', 2: 'deux', 3: 'trois', 4: 'quatre',\n",
    "        5: 'cinq', 6: 'six', 7: 'sept', 8: 'huit', 9: 'neuf',\n",
    "        10: 'dix', 11: 'onze', 12: 'douze', 13: 'treize', 14: 'quatorze',\n",
    "        15: 'quinze', 16: 'seize', 20: 'vingt', 30: 'trente', 40: 'quarante',\n",
    "        50: 'cinquante', 60: 'soixante', 70: 'soixante-dix', 80: 'quatre-vingt',\n",
    "        90: 'quatre-vingt-dix', 100: 'cent', 1000: 'mille', 1000000: 'million'\n",
    "    }"
   ]
  },
  {
   "cell_type": "code",
   "execution_count": 9,
   "metadata": {},
   "outputs": [],
   "source": [
    "def _handle_special_cases(number):\n",
    "    tens = number // 10 * 10 \n",
    "    ones = number % 10\n",
    "    if number == 71:\n",
    "        return f\"{strategies[tens - 10]}-et-{strategies[ones + 10]}\"\n",
    "    if number == 81:\n",
    "        return f\"{strategies[tens]}-{strategies[ones]}\"\n",
    "    if number == 91:\n",
    "        return f\"{strategies[tens - 10]}-{strategies[ones + 10]}\"\n"
   ]
  },
  {
   "cell_type": "code",
   "execution_count": 10,
   "metadata": {},
   "outputs": [],
   "source": [
    "def _convert_less_than_hundreds(number):\n",
    "    if number in [71, 81, 91]:\n",
    "        return _handle_special_cases(number)\n",
    "    tens = number // 10 * 10 # 70\n",
    "    ones = number % 10 # \n",
    "    return f\"{strategies[tens]}-et-{strategies[ones]}\" if ones == 1 else f\"{strategies[tens]}-{strategies[ones]}\"\n"
   ]
  },
  {
   "cell_type": "code",
   "execution_count": 15,
   "metadata": {},
   "outputs": [
    {
     "data": {
      "text/plain": [
       "'quatre-vingt-dix-neuf'"
      ]
     },
     "execution_count": 15,
     "metadata": {},
     "output_type": "execute_result"
    }
   ],
   "source": [
    "_convert_less_than_hundreds(99)"
   ]
  },
  {
   "cell_type": "code",
   "execution_count": 12,
   "metadata": {},
   "outputs": [
    {
     "data": {
      "text/plain": [
       "5"
      ]
     },
     "execution_count": 12,
     "metadata": {},
     "output_type": "execute_result"
    }
   ],
   "source": [
    "75 % 10"
   ]
  },
  {
   "cell_type": "code",
   "execution_count": 42,
   "metadata": {},
   "outputs": [],
   "source": [
    "def _convert_less_than_hundreds(number):\n",
    "    if number < 70 or (80 <= number < 90):\n",
    "        tens = number // 10 * 10\n",
    "        ones = number % 10\n",
    "        if ones == 0:\n",
    "            return strategies[number]\n",
    "        return f\"{strategies[tens]}-{strategies[ones]}\"\n",
    "    elif number < 80:  # 70-79\n",
    "        ones = number - 70\n",
    "        return \"soixante-\" + strategies[10 + ones]\n",
    "    else:  # 90-99\n",
    "        ones = number - 90\n",
    "        return \"quatre-vingt-\" + strategies[10 + ones]"
   ]
  },
  {
   "cell_type": "code",
   "execution_count": 44,
   "metadata": {},
   "outputs": [
    {
     "data": {
      "text/plain": [
       "90"
      ]
     },
     "execution_count": 44,
     "metadata": {},
     "output_type": "execute_result"
    }
   ],
   "source": [
    "tens = 99 // 10 * 10\n",
    "tens\n"
   ]
  },
  {
   "cell_type": "code",
   "execution_count": 45,
   "metadata": {},
   "outputs": [
    {
     "data": {
      "text/plain": [
       "9"
      ]
     },
     "execution_count": 45,
     "metadata": {},
     "output_type": "execute_result"
    }
   ],
   "source": [
    "ones = 99 % 10\n",
    "ones\n"
   ]
  },
  {
   "cell_type": "code",
   "execution_count": 43,
   "metadata": {},
   "outputs": [
    {
     "ename": "KeyError",
     "evalue": "19",
     "output_type": "error",
     "traceback": [
      "\u001b[0;31m---------------------------------------------------------------------------\u001b[0m",
      "\u001b[0;31mKeyError\u001b[0m                                  Traceback (most recent call last)",
      "Cell \u001b[0;32mIn[43], line 1\u001b[0m\n\u001b[0;32m----> 1\u001b[0m \u001b[43m_convert_less_than_hundreds\u001b[49m\u001b[43m(\u001b[49m\u001b[38;5;241;43m99\u001b[39;49m\u001b[43m)\u001b[49m\n",
      "Cell \u001b[0;32mIn[42], line 13\u001b[0m, in \u001b[0;36m_convert_less_than_hundreds\u001b[0;34m(number)\u001b[0m\n\u001b[1;32m     11\u001b[0m \u001b[38;5;28;01melse\u001b[39;00m:  \u001b[38;5;66;03m# 90-99\u001b[39;00m\n\u001b[1;32m     12\u001b[0m     ones \u001b[38;5;241m=\u001b[39m number \u001b[38;5;241m-\u001b[39m \u001b[38;5;241m90\u001b[39m\n\u001b[0;32m---> 13\u001b[0m     \u001b[38;5;28;01mreturn\u001b[39;00m \u001b[38;5;124m\"\u001b[39m\u001b[38;5;124mquatre-vingt-\u001b[39m\u001b[38;5;124m\"\u001b[39m \u001b[38;5;241m+\u001b[39m \u001b[43mstrategies\u001b[49m\u001b[43m[\u001b[49m\u001b[38;5;241;43m10\u001b[39;49m\u001b[43m \u001b[49m\u001b[38;5;241;43m+\u001b[39;49m\u001b[43m \u001b[49m\u001b[43mones\u001b[49m\u001b[43m]\u001b[49m\n",
      "\u001b[0;31mKeyError\u001b[0m: 19"
     ]
    }
   ],
   "source": [
    "_convert_less_than_hundreds(99)"
   ]
  },
  {
   "cell_type": "code",
   "execution_count": 22,
   "metadata": {},
   "outputs": [
    {
     "data": {
      "text/plain": [
       "'quatre-vingt-onze'"
      ]
     },
     "execution_count": 22,
     "metadata": {},
     "output_type": "execute_result"
    }
   ],
   "source": [
    "_convert_less_than_hundreds(91)"
   ]
  },
  {
   "cell_type": "code",
   "execution_count": null,
   "metadata": {},
   "outputs": [],
   "source": []
  }
 ],
 "metadata": {
  "kernelspec": {
   "display_name": "Python 3",
   "language": "python",
   "name": "python3"
  },
  "language_info": {
   "codemirror_mode": {
    "name": "ipython",
    "version": 3
   },
   "file_extension": ".py",
   "mimetype": "text/x-python",
   "name": "python",
   "nbconvert_exporter": "python",
   "pygments_lexer": "ipython3",
   "version": "3.11.8"
  }
 },
 "nbformat": 4,
 "nbformat_minor": 2
}
